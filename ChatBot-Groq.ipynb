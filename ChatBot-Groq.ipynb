{
 "cells": [
  {
   "cell_type": "code",
   "execution_count": 1,
   "metadata": {},
   "outputs": [
    {
     "data": {
      "text/plain": [
       "'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'"
      ]
     },
     "execution_count": 1,
     "metadata": {},
     "output_type": "execute_result"
    }
   ],
   "source": [
    "import os\n",
    "from dotenv  import load_dotenv\n",
    "load_dotenv()\n",
    "groq_api_key = os.getenv(\"GROQ_API_KEY\")\n",
    "\n",
    "groq_api_key\n"
   ]
  },
  {
   "cell_type": "code",
   "execution_count": 2,
   "metadata": {},
   "outputs": [
    {
     "data": {
      "text/plain": [
       "ChatGroq(client=<groq.resources.chat.completions.Completions object at 0x00000228251F03A0>, async_client=<groq.resources.chat.completions.AsyncCompletions object at 0x00000228251F1060>, model_name='Gemma2-9b-It', model_kwargs={}, groq_api_key=SecretStr('**********'))"
      ]
     },
     "execution_count": 2,
     "metadata": {},
     "output_type": "execute_result"
    }
   ],
   "source": [
    "from langchain_groq import ChatGroq\n",
    "\n",
    "model=ChatGroq(model='Gemma2-9b-It',groq_api_key=groq_api_key)\n",
    "model"
   ]
  },
  {
   "cell_type": "code",
   "execution_count": 3,
   "metadata": {},
   "outputs": [
    {
     "data": {
      "text/plain": [
       "AIMessage(content=\"Hi Semih, it's nice to meet you!  \\n\\nBeing an AI engineering student is exciting. What aspects of AI are you most interested in?  \\n\\nDo you have any projects you're working on or any questions about AI that you'd like to discuss? I'm happy to chat and see if I can be of help.\\n\", additional_kwargs={}, response_metadata={'token_usage': {'completion_tokens': 75, 'prompt_tokens': 22, 'total_tokens': 97, 'completion_time': 0.136363636, 'prompt_time': 0.000140959, 'queue_time': 0.014400950000000001, 'total_time': 0.136504595}, 'model_name': 'Gemma2-9b-It', 'system_fingerprint': 'fp_10c08bf97d', 'finish_reason': 'stop', 'logprobs': None}, id='run-9cd3c4bd-6ac8-43e2-a7c5-d4fcbffb31c4-0', usage_metadata={'input_tokens': 22, 'output_tokens': 75, 'total_tokens': 97})"
      ]
     },
     "execution_count": 3,
     "metadata": {},
     "output_type": "execute_result"
    }
   ],
   "source": [
    "from langchain_core.messages import HumanMessage\n",
    "\n",
    "model.invoke([HumanMessage(content=\n",
    "                        \"Hi, My name is Semih and I am AI engineer Student\")])"
   ]
  },
  {
   "cell_type": "code",
   "execution_count": 4,
   "metadata": {},
   "outputs": [
    {
     "data": {
      "text/plain": [
       "AIMessage(content=\"You mentioned your name is Semih and you are an AI engineering student!  \\n\\nIs there anything specific you'd like to know or talk about related to your studies?  I'm here to help however I can. 😊\\n\", additional_kwargs={}, response_metadata={'token_usage': {'completion_tokens': 50, 'prompt_tokens': 115, 'total_tokens': 165, 'completion_time': 0.090909091, 'prompt_time': 0.003899783, 'queue_time': 0.010341497, 'total_time': 0.094808874}, 'model_name': 'Gemma2-9b-It', 'system_fingerprint': 'fp_10c08bf97d', 'finish_reason': 'stop', 'logprobs': None}, id='run-862db4f5-b1bb-4b42-84a8-aec728f56c42-0', usage_metadata={'input_tokens': 115, 'output_tokens': 50, 'total_tokens': 165})"
      ]
     },
     "execution_count": 4,
     "metadata": {},
     "output_type": "execute_result"
    }
   ],
   "source": [
    "from langchain_core.messages import AIMessage\n",
    "\n",
    "model.invoke([HumanMessage(content=\"Hi, My name is Semih and I am AI engineer Student\"),\n",
    "              AIMessage(content=\"Hi Semih, it's nice to meet you!  \\n\\nBeing an AI engineering student is exciting. What aspects of AI are you most interested in?  \\n\\nDo you have any projects you're working on or any questions about AI that you'd like to discuss? I'm happy to chat and see if I can be of help.\"),\n",
    "              HumanMessage(content=\"Hey What's my name and what do I do\")\n",
    "              ])"
   ]
  },
  {
   "cell_type": "code",
   "execution_count": 7,
   "metadata": {},
   "outputs": [],
   "source": [
    "from langchain_community.chat_message_histories import ChatMessageHistory\n",
    "from langchain_core.chat_history import BaseChatMessageHistory\n",
    "from langchain_core.runnables.history import RunnableWithMessageHistory\n",
    "\n",
    "store={}\n",
    "\n",
    "def get_session_history(session_id:str)->BaseChatMessageHistory:\n",
    "    if session_id not in store:\n",
    "        store[session_id] = ChatMessageHistory()\n",
    "    return store[session_id]\n",
    "        \n",
    "with_message_history=RunnableWithMessageHistory(model,get_session_history)"
   ]
  },
  {
   "cell_type": "code",
   "execution_count": 6,
   "metadata": {},
   "outputs": [],
   "source": [
    "config={\"configurable\":{\"session_id\":\"chat1\"}}"
   ]
  },
  {
   "cell_type": "code",
   "execution_count": 13,
   "metadata": {},
   "outputs": [
    {
     "data": {
      "text/plain": [
       "AIMessage(content=\"Hi Semih!\\n\\nIt's great to meet another aspiring AI engineer! What are you enjoying most about your studies so far? \\n\\nIs there a particular area of AI that you're finding especially fascinating? Maybe machine learning, computer vision, or something else entirely?  \\n\\nI'm always up for chatting about all things AI! 😊  \\n\\n\", additional_kwargs={}, response_metadata={'token_usage': {'completion_tokens': 76, 'prompt_tokens': 326, 'total_tokens': 402, 'completion_time': 0.138181818, 'prompt_time': 0.010181409, 'queue_time': 0.005108069999999999, 'total_time': 0.148363227}, 'model_name': 'Gemma2-9b-It', 'system_fingerprint': 'fp_10c08bf97d', 'finish_reason': 'stop', 'logprobs': None}, id='run-19cb117e-de68-455f-b949-5718198ba590-0', usage_metadata={'input_tokens': 326, 'output_tokens': 76, 'total_tokens': 402})"
      ]
     },
     "execution_count": 13,
     "metadata": {},
     "output_type": "execute_result"
    }
   ],
   "source": [
    "response = with_message_history.invoke([HumanMessage(content=\"Hi, My name is Semih and I am AI engineer Student\")],\n",
    "                            config=config)\n",
    "response"
   ]
  },
  {
   "cell_type": "code",
   "execution_count": 14,
   "metadata": {},
   "outputs": [
    {
     "data": {
      "text/plain": [
       "\"Hi Semih!\\n\\nIt's great to meet another aspiring AI engineer! What are you enjoying most about your studies so far? \\n\\nIs there a particular area of AI that you're finding especially fascinating? Maybe machine learning, computer vision, or something else entirely?  \\n\\nI'm always up for chatting about all things AI! 😊  \\n\\n\""
      ]
     },
     "execution_count": 14,
     "metadata": {},
     "output_type": "execute_result"
    }
   ],
   "source": [
    "response.content"
   ]
  },
  {
   "cell_type": "code",
   "execution_count": 15,
   "metadata": {},
   "outputs": [
    {
     "data": {
      "text/plain": [
       "AIMessage(content=\"Your name is Semih!  \\n\\nIt's nice to meet you, Semih.  \\n\\nWhat can I help you with today?\\n\", additional_kwargs={}, response_metadata={'token_usage': {'completion_tokens': 32, 'prompt_tokens': 415, 'total_tokens': 447, 'completion_time': 0.058181818, 'prompt_time': 0.016463444, 'queue_time': 0.0029379359999999986, 'total_time': 0.074645262}, 'model_name': 'Gemma2-9b-It', 'system_fingerprint': 'fp_10c08bf97d', 'finish_reason': 'stop', 'logprobs': None}, id='run-60678a87-b67d-4a1e-b160-433bd5d9d69d-0', usage_metadata={'input_tokens': 415, 'output_tokens': 32, 'total_tokens': 447})"
      ]
     },
     "execution_count": 15,
     "metadata": {},
     "output_type": "execute_result"
    }
   ],
   "source": [
    "with_message_history.invoke([HumanMessage(content=\"What's my name?\")],\n",
    "                            config=config)"
   ]
  },
  {
   "cell_type": "code",
   "execution_count": 16,
   "metadata": {},
   "outputs": [],
   "source": [
    "config1={\"configurable\":{\"session_id\":\"chat2\"}}"
   ]
  },
  {
   "cell_type": "code",
   "execution_count": null,
   "metadata": {},
   "outputs": [],
   "source": [
    "with_message_history.invoke([HumanMessage(content=\"What's my name?\")],\n",
    "                            config=config)"
   ]
  },
  {
   "cell_type": "code",
   "execution_count": 17,
   "metadata": {},
   "outputs": [
    {
     "data": {
      "text/plain": [
       "AIMessage(content=\"As an AI, I don't have access to any information about you, including your name. If you'd like to tell me your name, I'd be happy to know! 😊  \\n\\n\", additional_kwargs={}, response_metadata={'token_usage': {'completion_tokens': 45, 'prompt_tokens': 15, 'total_tokens': 60, 'completion_time': 0.081818182, 'prompt_time': 8.379e-05, 'queue_time': 0.015155047999999999, 'total_time': 0.081901972}, 'model_name': 'Gemma2-9b-It', 'system_fingerprint': 'fp_10c08bf97d', 'finish_reason': 'stop', 'logprobs': None}, id='run-53fcbfb0-216c-483d-968b-18950f3577b6-0', usage_metadata={'input_tokens': 15, 'output_tokens': 45, 'total_tokens': 60})"
      ]
     },
     "execution_count": 17,
     "metadata": {},
     "output_type": "execute_result"
    }
   ],
   "source": [
    "with_message_history.invoke([HumanMessage(content=\"What's my name?\")],\n",
    "                            config=config1)"
   ]
  }
 ],
 "metadata": {
  "kernelspec": {
   "display_name": "Python 3",
   "language": "python",
   "name": "python3"
  },
  "language_info": {
   "codemirror_mode": {
    "name": "ipython",
    "version": 3
   },
   "file_extension": ".py",
   "mimetype": "text/x-python",
   "name": "python",
   "nbconvert_exporter": "python",
   "pygments_lexer": "ipython3",
   "version": "3.10.0"
  }
 },
 "nbformat": 4,
 "nbformat_minor": 2
}
